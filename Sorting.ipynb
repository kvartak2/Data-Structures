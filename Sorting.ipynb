{
 "cells": [
  {
   "cell_type": "code",
   "execution_count": 20,
   "metadata": {},
   "outputs": [
    {
     "name": "stdout",
     "output_type": "stream",
     "text": [
      "[1, 2, 3, 4, 5]\n"
     ]
    }
   ],
   "source": [
    "'''\n",
    "    Bubble Sort\n",
    "        Time : worst = O(n^2), average = Best = O(n)\n",
    "        space : O(1)\n",
    "'''\n",
    "\n",
    "def bubble(array):\n",
    "    for i in range(len(array)):\n",
    "        for j in range((len(array))-i-1):\n",
    "            if(array[j] > array[j+1]):\n",
    "                array[j],array[j+1] = array[j+1],array[j]\n",
    "    return(array)\n",
    "\n",
    "\n",
    "array = [3,2,4,5,1]\n",
    "print(bubble(array))\n"
   ]
  },
  {
   "cell_type": "code",
   "execution_count": 7,
   "metadata": {},
   "outputs": [
    {
     "name": "stdout",
     "output_type": "stream",
     "text": [
      "[1, 2, 3, 4, 5]\n"
     ]
    }
   ],
   "source": [
    "'''\n",
    "    Selection Sort\n",
    "        Time : worst = best = average = O(n^2)\n",
    "        space : O(1)\n",
    "'''\n",
    "\n",
    "\n",
    "def selection(array):\n",
    "    for i in range(len(array)):\n",
    "        min_index = i\n",
    "        for j in range(i+1,len(array)):\n",
    "            if(array[min_index] > array[j]):\n",
    "                min_index = j\n",
    "        array[i],array[min_index] = array[min_index],array[i]\n",
    "    return(array)\n",
    "\n",
    "\n",
    "array = [3,2,4,5,1]\n",
    "print(selection(array))\n",
    "\n"
   ]
  },
  {
   "cell_type": "code",
   "execution_count": 21,
   "metadata": {},
   "outputs": [
    {
     "name": "stdout",
     "output_type": "stream",
     "text": [
      "[1, 2, 3, 4, 5]\n"
     ]
    }
   ],
   "source": [
    "'''\n",
    "    Insertion Sort\n",
    "        Time : worst = average = O(n^2), best =  = O(n)\n",
    "        space : O(1)\n",
    "'''\n",
    "\n",
    "\n",
    "def insertion(array):\n",
    "    for i in range(len(array)):\n",
    "        key = array[i]\n",
    "        j = i-1\n",
    "        while(j>=0 and key < array[j]):\n",
    "            array[j+1] = array[j]\n",
    "            j = j-1\n",
    "        array[j+1] = key\n",
    "    return(array)\n",
    "\n",
    "array = [3,2,4,5,1]\n",
    "print(selection(array))\n",
    "\n",
    "\n"
   ]
  },
  {
   "cell_type": "code",
   "execution_count": null,
   "metadata": {},
   "outputs": [],
   "source": []
  }
 ],
 "metadata": {
  "kernelspec": {
   "display_name": "Python 3",
   "language": "python",
   "name": "python3"
  },
  "language_info": {
   "codemirror_mode": {
    "name": "ipython",
    "version": 3
   },
   "file_extension": ".py",
   "mimetype": "text/x-python",
   "name": "python",
   "nbconvert_exporter": "python",
   "pygments_lexer": "ipython3",
   "version": "3.7.6"
  }
 },
 "nbformat": 4,
 "nbformat_minor": 4
}

{
 "cells": [
  {
   "cell_type": "code",
   "execution_count": 99,
   "metadata": {
    "scrolled": true
   },
   "outputs": [
    {
     "name": "stdout",
     "output_type": "stream",
     "text": [
      "dcba\n"
     ]
    }
   ],
   "source": [
    "def reverse_str(str):\n",
    "    if(len(str) == 1):\n",
    "        return str[0]\n",
    "    else:\n",
    "        return reverse_str(str[1:]) + str[0]\n",
    "\n",
    "\n",
    "str = 'abcd'\n",
    "print(reverse_str(str))"
   ]
  },
  {
   "cell_type": "code",
   "execution_count": 101,
   "metadata": {},
   "outputs": [
    {
     "name": "stdout",
     "output_type": "stream",
     "text": [
      "1\n",
      "2\n",
      "3\n",
      "4\n"
     ]
    }
   ],
   "source": [
    "def print_arr(arr):\n",
    "    if(len(arr) == 1):\n",
    "        print(arr[0])\n",
    "    else:\n",
    "        print(arr[0])\n",
    "        return (print_arr(arr[1:]))\n",
    "\n",
    "arr = [1,2,3,4]\n",
    "print_arr(arr)"
   ]
  },
  {
   "cell_type": "code",
   "execution_count": 102,
   "metadata": {},
   "outputs": [
    {
     "name": "stdout",
     "output_type": "stream",
     "text": [
      "False\n"
     ]
    }
   ],
   "source": [
    "def palindrome(str):\n",
    "    if(len(str) <= 1):\n",
    "        print(\"True\")\n",
    "        return \n",
    "    else:\n",
    "        if(str[0] == str[-1]):\n",
    "            palindrome(str[1:-1])\n",
    "        else:\n",
    "            print(\"False\")\n",
    "\n",
    "str = 'mooum'\n",
    "palindrome(str)"
   ]
  },
  {
   "cell_type": "code",
   "execution_count": 103,
   "metadata": {},
   "outputs": [
    {
     "name": "stdout",
     "output_type": "stream",
     "text": [
      "8\n"
     ]
    }
   ],
   "source": [
    "def power(n,pow):\n",
    "    if(pow == 1):\n",
    "        return n\n",
    "    else:\n",
    "        return(n * power(n,pow-1))\n",
    "\n",
    "print(power(2,3))"
   ]
  },
  {
   "cell_type": "code",
   "execution_count": 13,
   "metadata": {},
   "outputs": [
    {
     "name": "stdout",
     "output_type": "stream",
     "text": [
      "10\n"
     ]
    }
   ],
   "source": [
    "# find sum of all integers upto n\n",
    "def sum_int(n):\n",
    "    if(n == 1):\n",
    "        return n\n",
    "    else:\n",
    "        return(n + sum_int(n - 1))\n",
    "\n",
    "print(sum_int(4))"
   ]
  },
  {
   "cell_type": "code",
   "execution_count": 12,
   "metadata": {},
   "outputs": [
    {
     "name": "stdout",
     "output_type": "stream",
     "text": [
      "9\n"
     ]
    }
   ],
   "source": [
    "# Given a non-negative integer num, repeatedly add all its digits until the result has only one digit.\n",
    "\n",
    "def add_ints(n):\n",
    "    if(len(n) == 1):\n",
    "        return n\n",
    "    else:\n",
    "        sum = 0\n",
    "        \n",
    "        for i in n:\n",
    "            sum += int(i)\n",
    "        return(add_ints(str(sum)))\n",
    "\n",
    "print(add_ints('564381'))"
   ]
  },
  {
   "cell_type": "code",
   "execution_count": 8,
   "metadata": {},
   "outputs": [
    {
     "name": "stdout",
     "output_type": "stream",
     "text": [
      "3\n"
     ]
    }
   ],
   "source": [
    "# fibonacci series\n",
    "\n",
    "d = {0:0, 1:1}\n",
    "\n",
    "def fibo(number):\n",
    "    if number in fib_records:\n",
    "        return d[number]\n",
    "    return fibo(number - 1) + fibo(number - 2)\n",
    "\n",
    "print(fibo(4))\n"
   ]
  },
  {
   "cell_type": "code",
   "execution_count": 11,
   "metadata": {},
   "outputs": [
    {
     "name": "stdout",
     "output_type": "stream",
     "text": [
      "1389537\n"
     ]
    }
   ],
   "source": [
    "# tribonacci series\n",
    "\n",
    "def tribonacci(n):\n",
    "    dict = {0:0, 1:1, 2:1}\n",
    "    if n in dict:\n",
    "        return dict[n]\n",
    "    else:\n",
    "        return tribonacci(n-1) + tribonacci(n-2) + tribonacci(n-3)\n",
    "    \n",
    "print(tribonacci(25))"
   ]
  },
  {
   "cell_type": "code",
   "execution_count": 2,
   "metadata": {},
   "outputs": [
    {
     "name": "stdout",
     "output_type": "stream",
     "text": [
      "[]\n",
      "[10]\n",
      "[10, 20, 30]\n",
      "[10, 20]\n"
     ]
    }
   ],
   "source": [
    "# Implement stack using array\n",
    "def createStack():\n",
    "    stack = []\n",
    "    return stack\n",
    "\n",
    "def isEmpty(stack):\n",
    "    if(len(stack) == 0):\n",
    "        return True\n",
    "        \n",
    "def pop(stack):\n",
    "    if(isEmpty(stack)):\n",
    "#         print(\"cannot pop\")\n",
    "        return stack\n",
    "    else:\n",
    "        stack = stack[:-1]\n",
    "        return stack\n",
    "    \n",
    "def push(stack,item):\n",
    "    stack.append(item)\n",
    "    return stack\n",
    "\n",
    "stack = createStack()\n",
    "print(stack)\n",
    "stack = pop(stack)\n",
    "stack = push(stack,10)\n",
    "print(stack)\n",
    "stack = push(stack,20)\n",
    "stack = push(stack,30)\n",
    "print(stack)\n",
    "stack = pop(stack)\n",
    "print(stack)"
   ]
  },
  {
   "cell_type": "code",
   "execution_count": 8,
   "metadata": {},
   "outputs": [
    {
     "name": "stdout",
     "output_type": "stream",
     "text": [
      "3\n",
      "Pre-order\n",
      "3\n",
      "1\n",
      "7\n",
      "5\n",
      "\n",
      "In-order\n",
      "1\n",
      "3\n",
      "5\n",
      "7\n",
      "\n",
      "search:\n",
      "ELEMENT FOUND\n"
     ]
    }
   ],
   "source": [
    "# Implement Binary Tree & [traversal]\n",
    "class Node:\n",
    "    def __init__(self,val):\n",
    "        self.left = None\n",
    "        self.right = None\n",
    "        self.data = val\n",
    "\n",
    "def binary_insert(root, node):\n",
    "    if root is None:\n",
    "        node = root\n",
    "    else:\n",
    "        if(root.data >= node.data):\n",
    "            if(root.left == None):\n",
    "                root.left = node\n",
    "            else:\n",
    "                binary_insert(root.left,node)\n",
    "        else:\n",
    "            if(root.right == None):\n",
    "                root.right = node\n",
    "            else:\n",
    "                binary_insert(root.right,node)\n",
    "\n",
    "def pre_order(root):\n",
    "    if root == None:\n",
    "        return\n",
    "    print(root.data)\n",
    "    pre_order(root.left)\n",
    "    pre_order(root.right)\n",
    "       \n",
    "def in_order(root):\n",
    "    if root == None:\n",
    "        return\n",
    "    in_order(root.left)\n",
    "    print(root.data)\n",
    "    in_order(root.right)\n",
    "\n",
    "def search(root,val):\n",
    "    if root == None:\n",
    "        print(\"NOT PRESENT\")\n",
    "        return \n",
    "    else:\n",
    "        if(root.data == val):\n",
    "            print(\"ELEMENT FOUND\")\n",
    "            return\n",
    "        elif(val <= root.data):\n",
    "            search(root.left,val)\n",
    "        else:\n",
    "            search(root.right,val)\n",
    "\n",
    "arr = [3, 7, 1, 5]\n",
    "arr_len = len(arr)\n",
    "for i in range(arr_len):\n",
    "    if(i == 0):\n",
    "        print(arr[i])\n",
    "        r = Node(arr[i])\n",
    "    else:\n",
    "        binary_insert(r, Node(arr[i]))\n",
    "\n",
    "print(\"Pre-order\")\n",
    "pre_order(r)\n",
    "\n",
    "print(\"\\nIn-order\")\n",
    "in_order(r)\n",
    "\n",
    "print(\"\\nsearch:\")\n",
    "search(r, 1)\n"
   ]
  },
  {
   "cell_type": "code",
   "execution_count": 9,
   "metadata": {},
   "outputs": [
    {
     "name": "stdout",
     "output_type": "stream",
     "text": [
      "3\n"
     ]
    }
   ],
   "source": [
    "# Implement BST\n",
    "def BST(arr,l,h,key):\n",
    "    if(l == h):\n",
    "        if(key == arr[l]):\n",
    "            return l\n",
    "        else:\n",
    "            return 0\n",
    "    else:\n",
    "        mid = int((l + h) / 2)\n",
    "        if(key < arr[mid]):\n",
    "            return BST(arr,0,mid-1,key)\n",
    "        elif(key > arr[mid]):\n",
    "            return BST(arr,mid+1,len(arr)-1,key)\n",
    "        elif(key == arr[mid]):\n",
    "            return mid\n",
    "\n",
    "\n",
    "\n",
    "arr = [2, 3, 4, 10, 40]\n",
    "key = 10\n",
    "arr_len = len(arr)-1\n",
    "index = BST(arr,0,arr_len,key)\n",
    "print(index)"
   ]
  },
  {
   "cell_type": "code",
   "execution_count": 10,
   "metadata": {},
   "outputs": [
    {
     "name": "stdout",
     "output_type": "stream",
     "text": [
      "3\n",
      "Pre-order\n",
      "3\n",
      "1\n",
      "7\n",
      "5\n",
      "\n",
      "In-order\n",
      "1\n",
      "3\n",
      "5\n",
      "7\n",
      "\n",
      "search:\n",
      "found\n"
     ]
    }
   ],
   "source": [
    "# Implement Binary Tree & [traversal]\n",
    "class Node:\n",
    "    def __init__(self,val):\n",
    "        self.left = None\n",
    "        self.right = None\n",
    "        self.data = val\n",
    "\n",
    "def binary_insert(root, node):\n",
    "    if root is None:\n",
    "        node = root\n",
    "    else:\n",
    "        if(root.data >= node.data):\n",
    "            if(root.left == None):\n",
    "                root.left = node\n",
    "            else:\n",
    "                binary_insert(root.left,node)\n",
    "        else:\n",
    "            if(root.right == None):\n",
    "                root.right = node\n",
    "            else:\n",
    "                binary_insert(root.right,node)\n",
    "\n",
    "def pre_order(root):\n",
    "    if root == None:\n",
    "        return\n",
    "    print(root.data)\n",
    "    pre_order(root.left)\n",
    "    pre_order(root.right)\n",
    "       \n",
    "def in_order(root):\n",
    "    if root == None:\n",
    "        return\n",
    "    in_order(root.left)\n",
    "    print(root.data)\n",
    "    in_order(root.right)\n",
    "\n",
    "def search(root,val):\n",
    "    if root == None:\n",
    "        print(\"NOT PRESENT\")\n",
    "        return \n",
    "    else:\n",
    "        if(root.data == val):\n",
    "            print(\"found\")\n",
    "            return\n",
    "        elif(val <= root.data):\n",
    "            search(root.left,val)\n",
    "        else:\n",
    "            search(root.right,val)\n",
    "\n",
    "arr = [3, 7, 1, 5]\n",
    "arr_len = len(arr)\n",
    "for i in range(arr_len):\n",
    "    if(i == 0):\n",
    "        print(arr[i])\n",
    "        r = Node(arr[i])\n",
    "    else:\n",
    "        binary_insert(r, Node(arr[i]))\n",
    "\n",
    "print(\"Pre-order\")\n",
    "pre_order(r)\n",
    "\n",
    "print(\"\\nIn-order\")\n",
    "in_order(r)\n",
    "\n",
    "print(\"\\nsearch:\")\n",
    "search(r, 1)\n"
   ]
  },
  {
   "cell_type": "code",
   "execution_count": 11,
   "metadata": {},
   "outputs": [
    {
     "name": "stdout",
     "output_type": "stream",
     "text": [
      "3\n",
      "4\n",
      "5\n",
      "11\n",
      "33\n",
      "45\n"
     ]
    }
   ],
   "source": [
    "# Heap Sort\n",
    "# Time Complexity : Best = Avg = Worst = O(log n)\n",
    "\n",
    "# max-heap\n",
    "def Heapify(arr,n,i):\n",
    "    L = i\n",
    "    left = 2 * i + 1\n",
    "    right = 2 * i + 2\n",
    "    \n",
    "    if((left < n) and (arr[i] < arr[left])):\n",
    "        L = left\n",
    "    if((right < n) and (arr[L] < arr[right])):\n",
    "        L = right\n",
    "    \n",
    "    if(L != i):\n",
    "        arr[i],arr[L] = arr[L], arr[i]\n",
    "        Heapify(arr,n,L)\n",
    "\n",
    "\n",
    "def heapSort(arr):\n",
    "    n = len(arr)\n",
    "    for i in range(n//2-1, -1, -1):\n",
    "        Heapify(arr,n,i)\n",
    "\n",
    "    # by deleting elements and building max-heap will get sorted array\n",
    "    for i in range(n-1,0,-1):\n",
    "        arr[i],arr[0] = arr[0],arr[i]\n",
    "        Heapify(arr,i,0)\n",
    "\n",
    "arr = [11,4,5,3,45,33] \n",
    "heapSort(arr)\n",
    "\n",
    "for i in range(len(arr)):\n",
    "    print(arr[i])"
   ]
  },
  {
   "cell_type": "code",
   "execution_count": null,
   "metadata": {},
   "outputs": [],
   "source": []
  }
 ],
 "metadata": {
  "kernelspec": {
   "display_name": "Python 3",
   "language": "python",
   "name": "python3"
  },
  "language_info": {
   "codemirror_mode": {
    "name": "ipython",
    "version": 3
   },
   "file_extension": ".py",
   "mimetype": "text/x-python",
   "name": "python",
   "nbconvert_exporter": "python",
   "pygments_lexer": "ipython3",
   "version": "3.7.6"
  }
 },
 "nbformat": 4,
 "nbformat_minor": 4
}

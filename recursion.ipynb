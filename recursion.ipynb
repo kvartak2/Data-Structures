{
 "cells": [
  {
   "cell_type": "code",
   "execution_count": 99,
   "metadata": {
    "scrolled": true
   },
   "outputs": [
    {
     "name": "stdout",
     "output_type": "stream",
     "text": [
      "dcba\n"
     ]
    }
   ],
   "source": [
    "def reverse_str(str):\n",
    "    if(len(str) == 1):\n",
    "        return str[0]\n",
    "    else:\n",
    "        return reverse_str(str[1:]) + str[0]\n",
    "\n",
    "\n",
    "str = 'abcd'\n",
    "print(reverse_str(str))"
   ]
  },
  {
   "cell_type": "code",
   "execution_count": 101,
   "metadata": {},
   "outputs": [
    {
     "name": "stdout",
     "output_type": "stream",
     "text": [
      "1\n",
      "2\n",
      "3\n",
      "4\n"
     ]
    }
   ],
   "source": [
    "def print_arr(arr):\n",
    "    if(len(arr) == 1):\n",
    "        print(arr[0])\n",
    "    else:\n",
    "        print(arr[0])\n",
    "        return (print_arr(arr[1:]))\n",
    "\n",
    "arr = [1,2,3,4]\n",
    "print_arr(arr)"
   ]
  },
  {
   "cell_type": "code",
   "execution_count": 102,
   "metadata": {},
   "outputs": [
    {
     "name": "stdout",
     "output_type": "stream",
     "text": [
      "False\n"
     ]
    }
   ],
   "source": [
    "def palindrome(str):\n",
    "    if(len(str) <= 1):\n",
    "        print(\"True\")\n",
    "        return \n",
    "    else:\n",
    "        if(str[0] == str[-1]):\n",
    "            palindrome(str[1:-1])\n",
    "        else:\n",
    "            print(\"False\")\n",
    "\n",
    "str = 'mooum'\n",
    "palindrome(str)"
   ]
  },
  {
   "cell_type": "code",
   "execution_count": 103,
   "metadata": {},
   "outputs": [
    {
     "name": "stdout",
     "output_type": "stream",
     "text": [
      "8\n"
     ]
    }
   ],
   "source": [
    "def power(n,pow):\n",
    "    if(pow == 1):\n",
    "        return n\n",
    "    else:\n",
    "        return(n * power(n,pow-1))\n",
    "\n",
    "print(power(2,3))"
   ]
  },
  {
   "cell_type": "code",
   "execution_count": 13,
   "metadata": {},
   "outputs": [
    {
     "name": "stdout",
     "output_type": "stream",
     "text": [
      "10\n"
     ]
    }
   ],
   "source": [
    "# find sum of all integers upto n\n",
    "def sum_int(n):\n",
    "    if(n == 1):\n",
    "        return n\n",
    "    else:\n",
    "        return(n + sum_int(n - 1))\n",
    "\n",
    "print(sum_int(4))"
   ]
  },
  {
   "cell_type": "code",
   "execution_count": 12,
   "metadata": {},
   "outputs": [
    {
     "name": "stdout",
     "output_type": "stream",
     "text": [
      "9\n"
     ]
    }
   ],
   "source": [
    "# Given a non-negative integer num, repeatedly add all its digits until the result has only one digit.\n",
    "\n",
    "def add_ints(n):\n",
    "    if(len(n) == 1):\n",
    "        return n\n",
    "    else:\n",
    "        sum = 0\n",
    "        \n",
    "        for i in n:\n",
    "            sum += int(i)\n",
    "        return(add_ints(str(sum)))\n",
    "\n",
    "print(add_ints('564381'))"
   ]
  },
  {
   "cell_type": "code",
   "execution_count": 8,
   "metadata": {},
   "outputs": [
    {
     "name": "stdout",
     "output_type": "stream",
     "text": [
      "3\n"
     ]
    }
   ],
   "source": [
    "# fibonacci series\n",
    "\n",
    "d = {0:0, 1:1}\n",
    "\n",
    "def fibo(number):\n",
    "    if number in fib_records:\n",
    "        return d[number]\n",
    "    return fibo(number - 1) + fibo(number - 2)\n",
    "\n",
    "print(fibo(4))\n"
   ]
  },
  {
   "cell_type": "code",
   "execution_count": 11,
   "metadata": {},
   "outputs": [
    {
     "name": "stdout",
     "output_type": "stream",
     "text": [
      "1389537\n"
     ]
    }
   ],
   "source": [
    "# tribonacci series\n",
    "\n",
    "def tribonacci(n):\n",
    "    dict = {0:0, 1:1, 2:1}\n",
    "    if n in dict:\n",
    "        return dict[n]\n",
    "    else:\n",
    "        return tribonacci(n-1) + tribonacci(n-2) + tribonacci(n-3)\n",
    "    \n",
    "print(tribonacci(25))"
   ]
  },
  {
   "cell_type": "code",
   "execution_count": null,
   "metadata": {},
   "outputs": [],
   "source": []
  }
 ],
 "metadata": {
  "kernelspec": {
   "display_name": "Python 3",
   "language": "python",
   "name": "python3"
  },
  "language_info": {
   "codemirror_mode": {
    "name": "ipython",
    "version": 3
   },
   "file_extension": ".py",
   "mimetype": "text/x-python",
   "name": "python",
   "nbconvert_exporter": "python",
   "pygments_lexer": "ipython3",
   "version": "3.7.6"
  }
 },
 "nbformat": 4,
 "nbformat_minor": 4
}
